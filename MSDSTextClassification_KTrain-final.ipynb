{
 "cells": [
  {
   "cell_type": "markdown",
   "metadata": {
    "id": "vBVrSZE47UNQ"
   },
   "source": [
    "# Text Classification, Lab 2: Building a model with K-Train"
   ]
  },
  {
   "cell_type": "markdown",
   "metadata": {
    "id": "mi6ok3n93LGb"
   },
   "source": [
    "⚡️ Save a copy of this notebook in your Google Drive before continuing"
   ]
  },
  {
   "cell_type": "markdown",
   "metadata": {
    "id": "ZXuMewVjCBYy"
   },
   "source": [
    "## About this lab"
   ]
  },
  {
   "cell_type": "markdown",
   "metadata": {
    "id": "8ERHzPAZCE9t"
   },
   "source": [
    "The first part of this lab is identical to Lab 1, and you should be able to step through it easily.\n",
    "\n",
    "We continue now with the goal of building an inference model for predicting whether or not a document is about \"healthy living.\" We will use the K-Train library to do this."
   ]
  },
  {
   "cell_type": "markdown",
   "metadata": {
    "id": "m45bF3QMOy1v"
   },
   "source": [
    "## About the final project"
   ]
  },
  {
   "cell_type": "markdown",
   "metadata": {
    "id": "O_eBt6TiOdgc"
   },
   "source": [
    "\n",
    "Recall that you are working toward a final project. After completing this lab, you will want to go the extra mile and explore ways to tweak and improve your model. See the final project description for further details on what is expected."
   ]
  },
  {
   "cell_type": "markdown",
   "metadata": {
    "id": "hGSUArJ_ZYN3"
   },
   "source": [
    "## Imports"
   ]
  },
  {
   "cell_type": "markdown",
   "metadata": {
    "id": "Y0MIZDrs0Ddx"
   },
   "source": [
    "We're going to be using Google's Tensorflow package: \n",
    "https://www.tensorflow.org/tutorials\n",
    "\n",
    "We're using an API wrapper for Tensorflow called ktrain. It's absolutely fabulous because it really abstracts the whole deep learning process into a workflow so easy, even a computational social scientist can do it:\n",
    "https://github.com/amaiya/ktrain"
   ]
  },
  {
   "cell_type": "code",
   "execution_count": 1,
   "metadata": {
    "id": "16hoKG5dbeWs"
   },
   "outputs": [],
   "source": [
    "import os\n",
    "try:\n",
    "  import ktrain\n",
    "except:\n",
    "  !pip install ktrain\n",
    "  os.kill(os.getpid(), 9)\n",
    "import ktrain\n",
    "import pandas as pd\n",
    "import numpy as np"
   ]
  },
  {
   "cell_type": "markdown",
   "metadata": {
    "id": "oaiVgZtNyRf2"
   },
   "source": [
    "## Mount Google Drive"
   ]
  },
  {
   "cell_type": "code",
   "execution_count": null,
   "metadata": {
    "id": "V_ewzr0kyTXo"
   },
   "outputs": [],
   "source": [
    "# from google.colab import drive\n",
    "# drive.mount('/content/drive')"
   ]
  },
  {
   "cell_type": "markdown",
   "metadata": {
    "id": "E3XGSpfy0xPv"
   },
   "source": [
    "## Set your google colab runtime to use GPU, a must for deep learning!\n",
    "\n",
    "Runtime > Change Runtime Type > GPU\n",
    "\n",
    "The following code snippet will show you GPU information for your runtime."
   ]
  },
  {
   "cell_type": "code",
   "execution_count": 2,
   "metadata": {
    "id": "I0GWta-7ELIN"
   },
   "outputs": [
    {
     "name": "stdout",
     "output_type": "stream",
     "text": [
      "Mon May  2 18:26:20 2022       \n",
      "+-----------------------------------------------------------------------------+\n",
      "| NVIDIA-SMI 512.15       Driver Version: 512.15       CUDA Version: 11.6     |\n",
      "|-------------------------------+----------------------+----------------------+\n",
      "| GPU  Name            TCC/WDDM | Bus-Id        Disp.A | Volatile Uncorr. ECC |\n",
      "| Fan  Temp  Perf  Pwr:Usage/Cap|         Memory-Usage | GPU-Util  Compute M. |\n",
      "|                               |                      |               MIG M. |\n",
      "|===============================+======================+======================|\n",
      "|   0  NVIDIA GeForce ... WDDM  | 00000000:05:00.0  On |                  N/A |\n",
      "| 27%   40C    P8    10W / 120W |   2497MiB /  6144MiB |      1%      Default |\n",
      "|                               |                      |                  N/A |\n",
      "+-------------------------------+----------------------+----------------------+\n",
      "                                                                               \n",
      "+-----------------------------------------------------------------------------+\n",
      "| Processes:                                                                  |\n",
      "|  GPU   GI   CI        PID   Type   Process name                  GPU Memory |\n",
      "|        ID   ID                                                   Usage      |\n",
      "|=============================================================================|\n",
      "|    0   N/A  N/A      1376    C+G   ...signal-desktop\\Signal.exe    N/A      |\n",
      "|    0   N/A  N/A      2748    C+G   ...5n1h2txyewy\\SearchApp.exe    N/A      |\n",
      "|    0   N/A  N/A      3168    C+G   ...zilla Firefox\\firefox.exe    N/A      |\n",
      "|    0   N/A  N/A      4600    C+G   ...)\\Nextcloud\\nextcloud.exe    N/A      |\n",
      "|    0   N/A  N/A      6024    C+G                                   N/A      |\n",
      "|    0   N/A  N/A     10120    C+G   ...zilla Firefox\\firefox.exe    N/A      |\n",
      "|    0   N/A  N/A     11356    C+G   ...kyb3d8bbwe\\Calculator.exe    N/A      |\n",
      "|    0   N/A  N/A     12988    C+G                                   N/A      |\n",
      "|    0   N/A  N/A     15768    C+G   ...cw5n1h2txyewy\\LockApp.exe    N/A      |\n",
      "|    0   N/A  N/A     16484    C+G   ...Helios IP Eye\\HipEye2.exe    N/A      |\n",
      "|    0   N/A  N/A     16584    C+G   ...lack\\app-4.25.0\\slack.exe    N/A      |\n",
      "|    0   N/A  N/A     17808    C+G   ...L\\app-3.4.15088\\DeepL.exe    N/A      |\n",
      "|    0   N/A  N/A     18456    C+G   ...root\\Office16\\OUTLOOK.EXE    N/A      |\n",
      "|    0   N/A  N/A     31136    C+G   ...ekyb3d8bbwe\\YourPhone.exe    N/A      |\n",
      "|    0   N/A  N/A     35376    C+G   C:\\Windows\\explorer.exe         N/A      |\n",
      "|    0   N/A  N/A     35944    C+G   ...y\\ShellExperienceHost.exe    N/A      |\n",
      "|    0   N/A  N/A     38128    C+G   ...2txyewy\\TextInputHost.exe    N/A      |\n",
      "+-----------------------------------------------------------------------------+\n"
     ]
    }
   ],
   "source": [
    "gpu_info = !nvidia-smi\n",
    "gpu_info = '\\n'.join(gpu_info)\n",
    "if gpu_info.find('failed') >= 0:\n",
    "  print('Not connected to a GPU')\n",
    "else:\n",
    "  print(gpu_info)"
   ]
  },
  {
   "cell_type": "markdown",
   "metadata": {
    "id": "oLd-Qkl7Djha"
   },
   "source": [
    "## Load the data"
   ]
  },
  {
   "cell_type": "markdown",
   "metadata": {
    "id": "idE4-ojt0-dH"
   },
   "source": [
    "The data file should be in your Google Drive from Lab 1."
   ]
  },
  {
   "cell_type": "code",
   "execution_count": 3,
   "metadata": {
    "id": "a7mhLblG6saq"
   },
   "outputs": [],
   "source": [
    "reviews = pd.read_json(\"news_category_trainingdata.json\")"
   ]
  },
  {
   "cell_type": "markdown",
   "metadata": {
    "id": "x-NXTV--Y3ue"
   },
   "source": [
    "## Inspect the data"
   ]
  },
  {
   "cell_type": "code",
   "execution_count": 4,
   "metadata": {
    "id": "quwyVcHh6P1s"
   },
   "outputs": [
    {
     "data": {
      "text/html": [
       "<div>\n",
       "<style scoped>\n",
       "    .dataframe tbody tr th:only-of-type {\n",
       "        vertical-align: middle;\n",
       "    }\n",
       "\n",
       "    .dataframe tbody tr th {\n",
       "        vertical-align: top;\n",
       "    }\n",
       "\n",
       "    .dataframe thead th {\n",
       "        text-align: right;\n",
       "    }\n",
       "</style>\n",
       "<table border=\"1\" class=\"dataframe\">\n",
       "  <thead>\n",
       "    <tr style=\"text-align: right;\">\n",
       "      <th></th>\n",
       "      <th>category</th>\n",
       "      <th>headline</th>\n",
       "      <th>authors</th>\n",
       "      <th>link</th>\n",
       "      <th>short_description</th>\n",
       "      <th>date</th>\n",
       "    </tr>\n",
       "  </thead>\n",
       "  <tbody>\n",
       "    <tr>\n",
       "      <th>0</th>\n",
       "      <td>CRIME</td>\n",
       "      <td>There Were 2 Mass Shootings In Texas Last Week...</td>\n",
       "      <td>Melissa Jeltsen</td>\n",
       "      <td>https://www.huffingtonpost.com/entry/texas-ama...</td>\n",
       "      <td>She left her husband. He killed their children...</td>\n",
       "      <td>2018-05-26</td>\n",
       "    </tr>\n",
       "    <tr>\n",
       "      <th>1</th>\n",
       "      <td>ENTERTAINMENT</td>\n",
       "      <td>Will Smith Joins Diplo And Nicky Jam For The 2...</td>\n",
       "      <td>Andy McDonald</td>\n",
       "      <td>https://www.huffingtonpost.com/entry/will-smit...</td>\n",
       "      <td>Of course it has a song.</td>\n",
       "      <td>2018-05-26</td>\n",
       "    </tr>\n",
       "    <tr>\n",
       "      <th>2</th>\n",
       "      <td>ENTERTAINMENT</td>\n",
       "      <td>Hugh Grant Marries For The First Time At Age 57</td>\n",
       "      <td>Ron Dicker</td>\n",
       "      <td>https://www.huffingtonpost.com/entry/hugh-gran...</td>\n",
       "      <td>The actor and his longtime girlfriend Anna Ebe...</td>\n",
       "      <td>2018-05-26</td>\n",
       "    </tr>\n",
       "    <tr>\n",
       "      <th>3</th>\n",
       "      <td>ENTERTAINMENT</td>\n",
       "      <td>Jim Carrey Blasts 'Castrato' Adam Schiff And D...</td>\n",
       "      <td>Ron Dicker</td>\n",
       "      <td>https://www.huffingtonpost.com/entry/jim-carre...</td>\n",
       "      <td>The actor gives Dems an ass-kicking for not fi...</td>\n",
       "      <td>2018-05-26</td>\n",
       "    </tr>\n",
       "    <tr>\n",
       "      <th>4</th>\n",
       "      <td>ENTERTAINMENT</td>\n",
       "      <td>Julianna Margulies Uses Donald Trump Poop Bags...</td>\n",
       "      <td>Ron Dicker</td>\n",
       "      <td>https://www.huffingtonpost.com/entry/julianna-...</td>\n",
       "      <td>The \"Dietland\" actress said using the bags is ...</td>\n",
       "      <td>2018-05-26</td>\n",
       "    </tr>\n",
       "  </tbody>\n",
       "</table>\n",
       "</div>"
      ],
      "text/plain": [
       "        category                                           headline  \\\n",
       "0          CRIME  There Were 2 Mass Shootings In Texas Last Week...   \n",
       "1  ENTERTAINMENT  Will Smith Joins Diplo And Nicky Jam For The 2...   \n",
       "2  ENTERTAINMENT    Hugh Grant Marries For The First Time At Age 57   \n",
       "3  ENTERTAINMENT  Jim Carrey Blasts 'Castrato' Adam Schiff And D...   \n",
       "4  ENTERTAINMENT  Julianna Margulies Uses Donald Trump Poop Bags...   \n",
       "\n",
       "           authors                                               link  \\\n",
       "0  Melissa Jeltsen  https://www.huffingtonpost.com/entry/texas-ama...   \n",
       "1    Andy McDonald  https://www.huffingtonpost.com/entry/will-smit...   \n",
       "2       Ron Dicker  https://www.huffingtonpost.com/entry/hugh-gran...   \n",
       "3       Ron Dicker  https://www.huffingtonpost.com/entry/jim-carre...   \n",
       "4       Ron Dicker  https://www.huffingtonpost.com/entry/julianna-...   \n",
       "\n",
       "                                   short_description       date  \n",
       "0  She left her husband. He killed their children... 2018-05-26  \n",
       "1                           Of course it has a song. 2018-05-26  \n",
       "2  The actor and his longtime girlfriend Anna Ebe... 2018-05-26  \n",
       "3  The actor gives Dems an ass-kicking for not fi... 2018-05-26  \n",
       "4  The \"Dietland\" actress said using the bags is ... 2018-05-26  "
      ]
     },
     "execution_count": 4,
     "metadata": {},
     "output_type": "execute_result"
    }
   ],
   "source": [
    "reviews.head()"
   ]
  },
  {
   "cell_type": "markdown",
   "metadata": {
    "id": "HbCERZaXG0p-"
   },
   "source": [
    "## Prepare the data"
   ]
  },
  {
   "cell_type": "markdown",
   "metadata": {
    "id": "fZ7xO9Aa6iyU"
   },
   "source": [
    "Most machine learning tools in Python accept one field/column/string. So we have to merge our two text column. Let's separate it with a space."
   ]
  },
  {
   "cell_type": "code",
   "execution_count": 5,
   "metadata": {
    "id": "F6VLEzaSuDyx"
   },
   "outputs": [],
   "source": [
    "reviews['combined_text'] = reviews['headline'] + ' ' + reviews['short_description']"
   ]
  },
  {
   "cell_type": "markdown",
   "metadata": {
    "id": "YKvESWUF5f4Y"
   },
   "source": [
    "The first thing we need to do is prepare the data. Specifically, we have a categorical column that we want to turn into a \"is this article healthy living?\" column. That is, when an article is about healthy living, it should have a 1, when it's anything else, it should be a 0."
   ]
  },
  {
   "cell_type": "code",
   "execution_count": 37,
   "metadata": {
    "id": "Bz1PoZOPriCk"
   },
   "outputs": [
    {
     "data": {
      "text/html": [
       "<div>\n",
       "<style scoped>\n",
       "    .dataframe tbody tr th:only-of-type {\n",
       "        vertical-align: middle;\n",
       "    }\n",
       "\n",
       "    .dataframe tbody tr th {\n",
       "        vertical-align: top;\n",
       "    }\n",
       "\n",
       "    .dataframe thead th {\n",
       "        text-align: right;\n",
       "    }\n",
       "</style>\n",
       "<table border=\"1\" class=\"dataframe\">\n",
       "  <thead>\n",
       "    <tr style=\"text-align: right;\">\n",
       "      <th></th>\n",
       "      <th>category</th>\n",
       "      <th>headline</th>\n",
       "      <th>authors</th>\n",
       "      <th>link</th>\n",
       "      <th>short_description</th>\n",
       "      <th>date</th>\n",
       "      <th>combined_text</th>\n",
       "      <th>healthy</th>\n",
       "    </tr>\n",
       "  </thead>\n",
       "  <tbody>\n",
       "    <tr>\n",
       "      <th>7578</th>\n",
       "      <td>HEALTHY LIVING</td>\n",
       "      <td>To The People Who Say ‘I’m Tired’ When Someone...</td>\n",
       "      <td>The Mighty, ContributorWe face disability, dis...</td>\n",
       "      <td>https://www.huffingtonpost.com/entry/to-the-pe...</td>\n",
       "      <td>When you feel like this, it’s important to kno...</td>\n",
       "      <td>2018-01-16</td>\n",
       "      <td>To The People Who Say ‘I’m Tired’ When Someone...</td>\n",
       "      <td>1</td>\n",
       "    </tr>\n",
       "    <tr>\n",
       "      <th>7693</th>\n",
       "      <td>HEALTHY LIVING</td>\n",
       "      <td>Eating Shake Shack Made Me Feel Healthier Than...</td>\n",
       "      <td>Colleen Werner, ContributorCampus Editor-at-Large</td>\n",
       "      <td>https://www.huffingtonpost.com/entry/eating-sh...</td>\n",
       "      <td>I can vividly remember the first time I felt f...</td>\n",
       "      <td>2018-01-12</td>\n",
       "      <td>Eating Shake Shack Made Me Feel Healthier Than...</td>\n",
       "      <td>1</td>\n",
       "    </tr>\n",
       "    <tr>\n",
       "      <th>7747</th>\n",
       "      <td>HEALTHY LIVING</td>\n",
       "      <td>How To Stay Updated On The News Without Losing...</td>\n",
       "      <td>Lindsay Holmes</td>\n",
       "      <td>https://www.huffingtonpost.com/entry/anxiety-f...</td>\n",
       "      <td>Because it's only becoming more of a struggle.</td>\n",
       "      <td>2018-01-12</td>\n",
       "      <td>How To Stay Updated On The News Without Losing...</td>\n",
       "      <td>1</td>\n",
       "    </tr>\n",
       "    <tr>\n",
       "      <th>7927</th>\n",
       "      <td>HEALTHY LIVING</td>\n",
       "      <td>27 Perfect Tweets About Whole30 That Will Make...</td>\n",
       "      <td>Lindsay Holmes</td>\n",
       "      <td>https://www.huffingtonpost.com/entry/tweets-ab...</td>\n",
       "      <td>\"The only Whole30 I want to participate in is ...</td>\n",
       "      <td>2018-01-10</td>\n",
       "      <td>27 Perfect Tweets About Whole30 That Will Make...</td>\n",
       "      <td>1</td>\n",
       "    </tr>\n",
       "    <tr>\n",
       "      <th>7934</th>\n",
       "      <td>HEALTHY LIVING</td>\n",
       "      <td>The Real Reason Your Hands Are Always Cold</td>\n",
       "      <td>Refinery29, ContributorThe #1 new-media brand ...</td>\n",
       "      <td>https://www.huffingtonpost.com/entry/the-real-...</td>\n",
       "      <td>Essentially, your hands are kept warm thanks t...</td>\n",
       "      <td>2018-01-10</td>\n",
       "      <td>The Real Reason Your Hands Are Always Cold Ess...</td>\n",
       "      <td>1</td>\n",
       "    </tr>\n",
       "    <tr>\n",
       "      <th>...</th>\n",
       "      <td>...</td>\n",
       "      <td>...</td>\n",
       "      <td>...</td>\n",
       "      <td>...</td>\n",
       "      <td>...</td>\n",
       "      <td>...</td>\n",
       "      <td>...</td>\n",
       "      <td>...</td>\n",
       "    </tr>\n",
       "    <tr>\n",
       "      <th>124913</th>\n",
       "      <td>HEALTHY LIVING</td>\n",
       "      <td>Why You Need Both a 'Bouncer' and a 'Bartender...</td>\n",
       "      <td>Elizabeth Grace Saunders, ContributorFounder, ...</td>\n",
       "      <td>https://www.huffingtonpost.com/entry/happy-hea...</td>\n",
       "      <td>Instead of judging whether you made the right ...</td>\n",
       "      <td>2014-04-18</td>\n",
       "      <td>Why You Need Both a 'Bouncer' and a 'Bartender...</td>\n",
       "      <td>1</td>\n",
       "    </tr>\n",
       "    <tr>\n",
       "      <th>124914</th>\n",
       "      <td>HEALTHY LIVING</td>\n",
       "      <td>How Video Games Can Improve Dialogue on Mental...</td>\n",
       "      <td>Mona Shattell, Contributornurse researcher</td>\n",
       "      <td>https://www.huffingtonpost.com/entry/mental-il...</td>\n",
       "      <td>While there are strong arguments for the games...</td>\n",
       "      <td>2014-04-18</td>\n",
       "      <td>How Video Games Can Improve Dialogue on Mental...</td>\n",
       "      <td>1</td>\n",
       "    </tr>\n",
       "    <tr>\n",
       "      <th>124925</th>\n",
       "      <td>HEALTHY LIVING</td>\n",
       "      <td>Wake-Up Calls Inspired My Change From Overdriv...</td>\n",
       "      <td>Jane Shure, ContributorLeadership Coach, Psych...</td>\n",
       "      <td>https://www.huffingtonpost.com/entry/wake-up-c...</td>\n",
       "      <td>My wake-up call marching orders were clear: No...</td>\n",
       "      <td>2014-04-18</td>\n",
       "      <td>Wake-Up Calls Inspired My Change From Overdriv...</td>\n",
       "      <td>1</td>\n",
       "    </tr>\n",
       "    <tr>\n",
       "      <th>124950</th>\n",
       "      <td>HEALTHY LIVING</td>\n",
       "      <td>Loving a Narcissist Without Losing Yourself</td>\n",
       "      <td>Nancy Colier, ContributorPsychotherapist, inte...</td>\n",
       "      <td>https://www.huffingtonpost.com/entry/narcissis...</td>\n",
       "      <td>It is very difficult for some people to see an...</td>\n",
       "      <td>2014-04-18</td>\n",
       "      <td>Loving a Narcissist Without Losing Yourself It...</td>\n",
       "      <td>1</td>\n",
       "    </tr>\n",
       "    <tr>\n",
       "      <th>124988</th>\n",
       "      <td>HEALTHY LIVING</td>\n",
       "      <td>Reasons Not to Be Happy</td>\n",
       "      <td>Mindy Utay, Contributor\"Calming Life's Conflicts\"</td>\n",
       "      <td>https://www.huffingtonpost.com/entry/happiness...</td>\n",
       "      <td>Our thoughts and feelings are powerful, but ma...</td>\n",
       "      <td>2014-04-18</td>\n",
       "      <td>Reasons Not to Be Happy Our thoughts and feeli...</td>\n",
       "      <td>1</td>\n",
       "    </tr>\n",
       "  </tbody>\n",
       "</table>\n",
       "<p>6694 rows × 8 columns</p>\n",
       "</div>"
      ],
      "text/plain": [
       "              category                                           headline  \\\n",
       "7578    HEALTHY LIVING  To The People Who Say ‘I’m Tired’ When Someone...   \n",
       "7693    HEALTHY LIVING  Eating Shake Shack Made Me Feel Healthier Than...   \n",
       "7747    HEALTHY LIVING  How To Stay Updated On The News Without Losing...   \n",
       "7927    HEALTHY LIVING  27 Perfect Tweets About Whole30 That Will Make...   \n",
       "7934    HEALTHY LIVING         The Real Reason Your Hands Are Always Cold   \n",
       "...                ...                                                ...   \n",
       "124913  HEALTHY LIVING  Why You Need Both a 'Bouncer' and a 'Bartender...   \n",
       "124914  HEALTHY LIVING  How Video Games Can Improve Dialogue on Mental...   \n",
       "124925  HEALTHY LIVING  Wake-Up Calls Inspired My Change From Overdriv...   \n",
       "124950  HEALTHY LIVING        Loving a Narcissist Without Losing Yourself   \n",
       "124988  HEALTHY LIVING                            Reasons Not to Be Happy   \n",
       "\n",
       "                                                  authors  \\\n",
       "7578    The Mighty, ContributorWe face disability, dis...   \n",
       "7693    Colleen Werner, ContributorCampus Editor-at-Large   \n",
       "7747                                       Lindsay Holmes   \n",
       "7927                                       Lindsay Holmes   \n",
       "7934    Refinery29, ContributorThe #1 new-media brand ...   \n",
       "...                                                   ...   \n",
       "124913  Elizabeth Grace Saunders, ContributorFounder, ...   \n",
       "124914         Mona Shattell, Contributornurse researcher   \n",
       "124925  Jane Shure, ContributorLeadership Coach, Psych...   \n",
       "124950  Nancy Colier, ContributorPsychotherapist, inte...   \n",
       "124988  Mindy Utay, Contributor\"Calming Life's Conflicts\"   \n",
       "\n",
       "                                                     link  \\\n",
       "7578    https://www.huffingtonpost.com/entry/to-the-pe...   \n",
       "7693    https://www.huffingtonpost.com/entry/eating-sh...   \n",
       "7747    https://www.huffingtonpost.com/entry/anxiety-f...   \n",
       "7927    https://www.huffingtonpost.com/entry/tweets-ab...   \n",
       "7934    https://www.huffingtonpost.com/entry/the-real-...   \n",
       "...                                                   ...   \n",
       "124913  https://www.huffingtonpost.com/entry/happy-hea...   \n",
       "124914  https://www.huffingtonpost.com/entry/mental-il...   \n",
       "124925  https://www.huffingtonpost.com/entry/wake-up-c...   \n",
       "124950  https://www.huffingtonpost.com/entry/narcissis...   \n",
       "124988  https://www.huffingtonpost.com/entry/happiness...   \n",
       "\n",
       "                                        short_description       date  \\\n",
       "7578    When you feel like this, it’s important to kno... 2018-01-16   \n",
       "7693    I can vividly remember the first time I felt f... 2018-01-12   \n",
       "7747       Because it's only becoming more of a struggle. 2018-01-12   \n",
       "7927    \"The only Whole30 I want to participate in is ... 2018-01-10   \n",
       "7934    Essentially, your hands are kept warm thanks t... 2018-01-10   \n",
       "...                                                   ...        ...   \n",
       "124913  Instead of judging whether you made the right ... 2014-04-18   \n",
       "124914  While there are strong arguments for the games... 2014-04-18   \n",
       "124925  My wake-up call marching orders were clear: No... 2014-04-18   \n",
       "124950  It is very difficult for some people to see an... 2014-04-18   \n",
       "124988  Our thoughts and feelings are powerful, but ma... 2014-04-18   \n",
       "\n",
       "                                            combined_text  healthy  \n",
       "7578    To The People Who Say ‘I’m Tired’ When Someone...        1  \n",
       "7693    Eating Shake Shack Made Me Feel Healthier Than...        1  \n",
       "7747    How To Stay Updated On The News Without Losing...        1  \n",
       "7927    27 Perfect Tweets About Whole30 That Will Make...        1  \n",
       "7934    The Real Reason Your Hands Are Always Cold Ess...        1  \n",
       "...                                                   ...      ...  \n",
       "124913  Why You Need Both a 'Bouncer' and a 'Bartender...        1  \n",
       "124914  How Video Games Can Improve Dialogue on Mental...        1  \n",
       "124925  Wake-Up Calls Inspired My Change From Overdriv...        1  \n",
       "124950  Loving a Narcissist Without Losing Yourself It...        1  \n",
       "124988  Reasons Not to Be Happy Our thoughts and feeli...        1  \n",
       "\n",
       "[6694 rows x 8 columns]"
      ]
     },
     "execution_count": 37,
     "metadata": {},
     "output_type": "execute_result"
    }
   ],
   "source": [
    "reviews[reviews['category'].str.contains(\"HEALTHY LIVING\")]"
   ]
  },
  {
   "cell_type": "code",
   "execution_count": 38,
   "metadata": {
    "id": "Bz1PoZOPriCk"
   },
   "outputs": [
    {
     "data": {
      "text/html": [
       "<div>\n",
       "<style scoped>\n",
       "    .dataframe tbody tr th:only-of-type {\n",
       "        vertical-align: middle;\n",
       "    }\n",
       "\n",
       "    .dataframe tbody tr th {\n",
       "        vertical-align: top;\n",
       "    }\n",
       "\n",
       "    .dataframe thead th {\n",
       "        text-align: right;\n",
       "    }\n",
       "</style>\n",
       "<table border=\"1\" class=\"dataframe\">\n",
       "  <thead>\n",
       "    <tr style=\"text-align: right;\">\n",
       "      <th></th>\n",
       "      <th>category</th>\n",
       "      <th>headline</th>\n",
       "      <th>authors</th>\n",
       "      <th>link</th>\n",
       "      <th>short_description</th>\n",
       "      <th>date</th>\n",
       "      <th>combined_text</th>\n",
       "      <th>healthy</th>\n",
       "    </tr>\n",
       "  </thead>\n",
       "  <tbody>\n",
       "    <tr>\n",
       "      <th>124989</th>\n",
       "      <td>WELLNESS</td>\n",
       "      <td>Why Overeating Doesn't Make You Fat</td>\n",
       "      <td>Mark Hyman, MD, Contributor\\nPracticing Physician</td>\n",
       "      <td>https://www.huffingtonpost.com/entry/overeatin...</td>\n",
       "      <td>If you take the right approach to ending your ...</td>\n",
       "      <td>2014-04-17</td>\n",
       "      <td>Why Overeating Doesn't Make You Fat If you tak...</td>\n",
       "      <td>0</td>\n",
       "    </tr>\n",
       "    <tr>\n",
       "      <th>124990</th>\n",
       "      <td>WELLNESS</td>\n",
       "      <td>14 Habits Of People With A Healthy Relationshi...</td>\n",
       "      <td>Sarah Klein</td>\n",
       "      <td>https://www.huffingtonpost.com/entry/healthy-r...</td>\n",
       "      <td>After a long list of rules and habits like the...</td>\n",
       "      <td>2014-04-17</td>\n",
       "      <td>14 Habits Of People With A Healthy Relationshi...</td>\n",
       "      <td>0</td>\n",
       "    </tr>\n",
       "    <tr>\n",
       "      <th>124993</th>\n",
       "      <td>WELLNESS</td>\n",
       "      <td>5 Things That Could Be Stealing Your Joy</td>\n",
       "      <td>Amanda Gore, Contributor\\nInternational keynot...</td>\n",
       "      <td>https://www.huffingtonpost.com/entry/joy_us_5b...</td>\n",
       "      <td>Listen to yourself all day today -- are you an...</td>\n",
       "      <td>2014-04-17</td>\n",
       "      <td>5 Things That Could Be Stealing Your Joy Liste...</td>\n",
       "      <td>0</td>\n",
       "    </tr>\n",
       "    <tr>\n",
       "      <th>124994</th>\n",
       "      <td>WELLNESS</td>\n",
       "      <td>Moments Make a Life</td>\n",
       "      <td>Megan McDonough, Contributor\\nCEO, Wholebeing ...</td>\n",
       "      <td>https://www.huffingtonpost.com/entry/moments-m...</td>\n",
       "      <td>Consciously constructing positive habits -- or...</td>\n",
       "      <td>2014-04-17</td>\n",
       "      <td>Moments Make a Life Consciously constructing p...</td>\n",
       "      <td>0</td>\n",
       "    </tr>\n",
       "    <tr>\n",
       "      <th>124996</th>\n",
       "      <td>WELLNESS</td>\n",
       "      <td>Fat Facts</td>\n",
       "      <td>Maria Rodale, Contributor\\nCEO and Chairman of...</td>\n",
       "      <td>https://www.huffingtonpost.com/entry/fat-facts...</td>\n",
       "      <td>Human fat cells, photo by Dr. Peeke Here's how...</td>\n",
       "      <td>2014-04-17</td>\n",
       "      <td>Fat Facts Human fat cells, photo by Dr. Peeke ...</td>\n",
       "      <td>0</td>\n",
       "    </tr>\n",
       "    <tr>\n",
       "      <th>...</th>\n",
       "      <td>...</td>\n",
       "      <td>...</td>\n",
       "      <td>...</td>\n",
       "      <td>...</td>\n",
       "      <td>...</td>\n",
       "      <td>...</td>\n",
       "      <td>...</td>\n",
       "      <td>...</td>\n",
       "    </tr>\n",
       "    <tr>\n",
       "      <th>200797</th>\n",
       "      <td>WELLNESS</td>\n",
       "      <td>Shoveling Snow? How to Protect Your Back (And ...</td>\n",
       "      <td></td>\n",
       "      <td>https://www.huffingtonpost.com/entry/shovel-sn...</td>\n",
       "      <td>Work up to it. Warm up inside, and incorporate...</td>\n",
       "      <td>2012-01-28</td>\n",
       "      <td>Shoveling Snow? How to Protect Your Back (And ...</td>\n",
       "      <td>0</td>\n",
       "    </tr>\n",
       "    <tr>\n",
       "      <th>200799</th>\n",
       "      <td>WELLNESS</td>\n",
       "      <td>7 Reasons Working Too Much Is Bad For Your Health</td>\n",
       "      <td>Sarah Klein</td>\n",
       "      <td>https://www.huffingtonpost.com/entry/overtime-...</td>\n",
       "      <td>If you're the last one to leave the office, or...</td>\n",
       "      <td>2012-01-28</td>\n",
       "      <td>7 Reasons Working Too Much Is Bad For Your Hea...</td>\n",
       "      <td>0</td>\n",
       "    </tr>\n",
       "    <tr>\n",
       "      <th>200800</th>\n",
       "      <td>WELLNESS</td>\n",
       "      <td>The Sleep Library: 11 Soothing Books For Bedtime</td>\n",
       "      <td></td>\n",
       "      <td>https://www.huffingtonpost.comhttp://www.oprah...</td>\n",
       "      <td>Do you toss and turn until you finally sit up ...</td>\n",
       "      <td>2012-01-28</td>\n",
       "      <td>The Sleep Library: 11 Soothing Books For Bedti...</td>\n",
       "      <td>0</td>\n",
       "    </tr>\n",
       "    <tr>\n",
       "      <th>200802</th>\n",
       "      <td>WELLNESS</td>\n",
       "      <td>The Benefits of Caring for a Pet</td>\n",
       "      <td>Rita Altman, R.N., Contributor\\nSenior Vice Pr...</td>\n",
       "      <td>https://www.huffingtonpost.com/entry/pets-seni...</td>\n",
       "      <td>For the young as well as the old, especially i...</td>\n",
       "      <td>2012-01-28</td>\n",
       "      <td>The Benefits of Caring for a Pet For the young...</td>\n",
       "      <td>0</td>\n",
       "    </tr>\n",
       "    <tr>\n",
       "      <th>200805</th>\n",
       "      <td>WELLNESS</td>\n",
       "      <td>This Is Only the Beginning: Surprising Advice ...</td>\n",
       "      <td>Ellie Knaus, Contributor\\nAtomic Moms Podcast ...</td>\n",
       "      <td>https://www.huffingtonpost.com/entry/life-tips...</td>\n",
       "      <td>My great-aunt Ida loves to say, \"This is only ...</td>\n",
       "      <td>2012-01-28</td>\n",
       "      <td>This Is Only the Beginning: Surprising Advice ...</td>\n",
       "      <td>0</td>\n",
       "    </tr>\n",
       "  </tbody>\n",
       "</table>\n",
       "<p>17827 rows × 8 columns</p>\n",
       "</div>"
      ],
      "text/plain": [
       "        category                                           headline  \\\n",
       "124989  WELLNESS                Why Overeating Doesn't Make You Fat   \n",
       "124990  WELLNESS  14 Habits Of People With A Healthy Relationshi...   \n",
       "124993  WELLNESS           5 Things That Could Be Stealing Your Joy   \n",
       "124994  WELLNESS                                Moments Make a Life   \n",
       "124996  WELLNESS                                          Fat Facts   \n",
       "...          ...                                                ...   \n",
       "200797  WELLNESS  Shoveling Snow? How to Protect Your Back (And ...   \n",
       "200799  WELLNESS  7 Reasons Working Too Much Is Bad For Your Health   \n",
       "200800  WELLNESS   The Sleep Library: 11 Soothing Books For Bedtime   \n",
       "200802  WELLNESS                   The Benefits of Caring for a Pet   \n",
       "200805  WELLNESS  This Is Only the Beginning: Surprising Advice ...   \n",
       "\n",
       "                                                  authors  \\\n",
       "124989  Mark Hyman, MD, Contributor\\nPracticing Physician   \n",
       "124990                                        Sarah Klein   \n",
       "124993  Amanda Gore, Contributor\\nInternational keynot...   \n",
       "124994  Megan McDonough, Contributor\\nCEO, Wholebeing ...   \n",
       "124996  Maria Rodale, Contributor\\nCEO and Chairman of...   \n",
       "...                                                   ...   \n",
       "200797                                                      \n",
       "200799                                        Sarah Klein   \n",
       "200800                                                      \n",
       "200802  Rita Altman, R.N., Contributor\\nSenior Vice Pr...   \n",
       "200805  Ellie Knaus, Contributor\\nAtomic Moms Podcast ...   \n",
       "\n",
       "                                                     link  \\\n",
       "124989  https://www.huffingtonpost.com/entry/overeatin...   \n",
       "124990  https://www.huffingtonpost.com/entry/healthy-r...   \n",
       "124993  https://www.huffingtonpost.com/entry/joy_us_5b...   \n",
       "124994  https://www.huffingtonpost.com/entry/moments-m...   \n",
       "124996  https://www.huffingtonpost.com/entry/fat-facts...   \n",
       "...                                                   ...   \n",
       "200797  https://www.huffingtonpost.com/entry/shovel-sn...   \n",
       "200799  https://www.huffingtonpost.com/entry/overtime-...   \n",
       "200800  https://www.huffingtonpost.comhttp://www.oprah...   \n",
       "200802  https://www.huffingtonpost.com/entry/pets-seni...   \n",
       "200805  https://www.huffingtonpost.com/entry/life-tips...   \n",
       "\n",
       "                                        short_description       date  \\\n",
       "124989  If you take the right approach to ending your ... 2014-04-17   \n",
       "124990  After a long list of rules and habits like the... 2014-04-17   \n",
       "124993  Listen to yourself all day today -- are you an... 2014-04-17   \n",
       "124994  Consciously constructing positive habits -- or... 2014-04-17   \n",
       "124996  Human fat cells, photo by Dr. Peeke Here's how... 2014-04-17   \n",
       "...                                                   ...        ...   \n",
       "200797  Work up to it. Warm up inside, and incorporate... 2012-01-28   \n",
       "200799  If you're the last one to leave the office, or... 2012-01-28   \n",
       "200800  Do you toss and turn until you finally sit up ... 2012-01-28   \n",
       "200802  For the young as well as the old, especially i... 2012-01-28   \n",
       "200805  My great-aunt Ida loves to say, \"This is only ... 2012-01-28   \n",
       "\n",
       "                                            combined_text  healthy  \n",
       "124989  Why Overeating Doesn't Make You Fat If you tak...        0  \n",
       "124990  14 Habits Of People With A Healthy Relationshi...        0  \n",
       "124993  5 Things That Could Be Stealing Your Joy Liste...        0  \n",
       "124994  Moments Make a Life Consciously constructing p...        0  \n",
       "124996  Fat Facts Human fat cells, photo by Dr. Peeke ...        0  \n",
       "...                                                   ...      ...  \n",
       "200797  Shoveling Snow? How to Protect Your Back (And ...        0  \n",
       "200799  7 Reasons Working Too Much Is Bad For Your Hea...        0  \n",
       "200800  The Sleep Library: 11 Soothing Books For Bedti...        0  \n",
       "200802  The Benefits of Caring for a Pet For the young...        0  \n",
       "200805  This Is Only the Beginning: Surprising Advice ...        0  \n",
       "\n",
       "[17827 rows x 8 columns]"
      ]
     },
     "execution_count": 38,
     "metadata": {},
     "output_type": "execute_result"
    }
   ],
   "source": [
    "reviews[reviews['category'].str.contains(\"WELLNESS\")]"
   ]
  },
  {
   "cell_type": "code",
   "execution_count": 97,
   "metadata": {
    "id": "ccC1GR85suZJ"
   },
   "outputs": [],
   "source": [
    "#reviews['health_Well'] = np.where((reviews['category'] == 'HEALTHY LIVING'), 1, 0)\n",
    "reviews['health_Well'] = np.where((reviews['category'] == 'HEALTHY LIVING') | (reviews['category'] == 'WELLNESS'), 1, 0)"
   ]
  },
  {
   "cell_type": "code",
   "execution_count": 103,
   "metadata": {
    "id": "aexMvzhKtyDN"
   },
   "outputs": [
    {
     "data": {
      "text/plain": [
       "count    200853.000000\n",
       "mean          0.122084\n",
       "std           0.327384\n",
       "min           0.000000\n",
       "25%           0.000000\n",
       "50%           0.000000\n",
       "75%           0.000000\n",
       "max           1.000000\n",
       "Name: health_Well, dtype: float64"
      ]
     },
     "execution_count": 103,
     "metadata": {},
     "output_type": "execute_result"
    }
   ],
   "source": [
    "reviews.health_Well.describe()"
   ]
  },
  {
   "cell_type": "code",
   "execution_count": 105,
   "metadata": {},
   "outputs": [
    {
     "data": {
      "text/plain": [
       "count    24521.0\n",
       "mean         1.0\n",
       "std          0.0\n",
       "min          1.0\n",
       "25%          1.0\n",
       "50%          1.0\n",
       "75%          1.0\n",
       "max          1.0\n",
       "Name: health_Well, dtype: float64"
      ]
     },
     "execution_count": 105,
     "metadata": {},
     "output_type": "execute_result"
    }
   ],
   "source": [
    "reviews.health_Well[reviews.health_Well == 1].describe()"
   ]
  },
  {
   "cell_type": "markdown",
   "metadata": {},
   "source": [
    "So we have 24521 artikels about Healthy living or Wellness. This matches the data description"
   ]
  },
  {
   "cell_type": "markdown",
   "metadata": {
    "id": "S766s41yJVdf"
   },
   "source": [
    "## Balance the data"
   ]
  },
  {
   "cell_type": "markdown",
   "metadata": {
    "id": "-4sGp-UdeBMh"
   },
   "source": [
    "To create a balanced data set that includes all of the health living articles, set sample_amount to the total number of those articles.\n",
    "\n",
    "In Lab 1, you balanced the data for the full set of healthy living articles. In the interest of getting through Lab 2 more quickly (in terms of training time for the model), we will use a smaller sample, of just 1000 articles per class. After completing the lab, consider increasing the sample size to see if you can get improvements on the model performance. Of course, be prepared for longer training times when you do that."
   ]
  },
  {
   "cell_type": "code",
   "execution_count": 106,
   "metadata": {
    "id": "xfLYND3fam_x"
   },
   "outputs": [],
   "source": [
    "# We have replaced the sample count with a smaller number in order to expedite\n",
    "# the completion of the lab. For your final project, you will want to use the\n",
    "# full balanced document set which is determined by this commented line:\n",
    "#sample_amount =  len(reviews[reviews[\"healthy\"] == 1]) # the total number of healthy living articles\n",
    "\n",
    "sample_amount = 10000\n",
    "\n",
    "healthy = reviews[reviews['health_Well'] == 1].sample(n=sample_amount)\n",
    "not_healthy = reviews[reviews['health_Well'] == 0].sample(n=sample_amount)"
   ]
  },
  {
   "cell_type": "code",
   "execution_count": 107,
   "metadata": {
    "id": "B48IOQpGdsp1"
   },
   "outputs": [],
   "source": [
    "review_sample = pd.concat([healthy,not_healthy])"
   ]
  },
  {
   "cell_type": "code",
   "execution_count": 108,
   "metadata": {
    "id": "CHr4h7FYed_Z"
   },
   "outputs": [
    {
     "data": {
      "text/html": [
       "<div>\n",
       "<style scoped>\n",
       "    .dataframe tbody tr th:only-of-type {\n",
       "        vertical-align: middle;\n",
       "    }\n",
       "\n",
       "    .dataframe tbody tr th {\n",
       "        vertical-align: top;\n",
       "    }\n",
       "\n",
       "    .dataframe thead th {\n",
       "        text-align: right;\n",
       "    }\n",
       "</style>\n",
       "<table border=\"1\" class=\"dataframe\">\n",
       "  <thead>\n",
       "    <tr style=\"text-align: right;\">\n",
       "      <th></th>\n",
       "      <th>healthy</th>\n",
       "      <th>health_Well</th>\n",
       "    </tr>\n",
       "  </thead>\n",
       "  <tbody>\n",
       "    <tr>\n",
       "      <th>count</th>\n",
       "      <td>20000.000000</td>\n",
       "      <td>20000.000000</td>\n",
       "    </tr>\n",
       "    <tr>\n",
       "      <th>mean</th>\n",
       "      <td>0.136650</td>\n",
       "      <td>0.500000</td>\n",
       "    </tr>\n",
       "    <tr>\n",
       "      <th>std</th>\n",
       "      <td>0.343486</td>\n",
       "      <td>0.500013</td>\n",
       "    </tr>\n",
       "    <tr>\n",
       "      <th>min</th>\n",
       "      <td>0.000000</td>\n",
       "      <td>0.000000</td>\n",
       "    </tr>\n",
       "    <tr>\n",
       "      <th>25%</th>\n",
       "      <td>0.000000</td>\n",
       "      <td>0.000000</td>\n",
       "    </tr>\n",
       "    <tr>\n",
       "      <th>50%</th>\n",
       "      <td>0.000000</td>\n",
       "      <td>0.500000</td>\n",
       "    </tr>\n",
       "    <tr>\n",
       "      <th>75%</th>\n",
       "      <td>0.000000</td>\n",
       "      <td>1.000000</td>\n",
       "    </tr>\n",
       "    <tr>\n",
       "      <th>max</th>\n",
       "      <td>1.000000</td>\n",
       "      <td>1.000000</td>\n",
       "    </tr>\n",
       "  </tbody>\n",
       "</table>\n",
       "</div>"
      ],
      "text/plain": [
       "            healthy   health_Well\n",
       "count  20000.000000  20000.000000\n",
       "mean       0.136650      0.500000\n",
       "std        0.343486      0.500013\n",
       "min        0.000000      0.000000\n",
       "25%        0.000000      0.000000\n",
       "50%        0.000000      0.500000\n",
       "75%        0.000000      1.000000\n",
       "max        1.000000      1.000000"
      ]
     },
     "execution_count": 108,
     "metadata": {},
     "output_type": "execute_result"
    }
   ],
   "source": [
    "review_sample.describe()"
   ]
  },
  {
   "cell_type": "markdown",
   "metadata": {
    "id": "Cljkg1U5aZ3_"
   },
   "source": [
    "# On to Lab 2: Test, Tune and Save Models"
   ]
  },
  {
   "cell_type": "markdown",
   "metadata": {
    "id": "4KxLQ2lCprkx"
   },
   "source": [
    "Here, you will tune and train a predictor model for classifying healthy-living articles. After completing this lab, complete the Lab Quiz by entering your precision and recall values from the validation report for both the negative and positive classes."
   ]
  },
  {
   "cell_type": "code",
   "execution_count": 109,
   "metadata": {
    "id": "mUuRH7iYqPSX"
   },
   "outputs": [],
   "source": [
    "target_names = ['NOT health_Well','health_Well']"
   ]
  },
  {
   "cell_type": "markdown",
   "metadata": {
    "id": "bqj9ZZ4EQCAP"
   },
   "source": [
    "---\n",
    "\n",
    "### Experimenting with different transformers\n",
    "\n",
    "For purposes of this lab, we are using the **distilbert-base-uncased** transformer model. Other models you might try for your final project include:\n",
    "\n",
    " * roberta-base\n",
    " * bert-base-uncased\n",
    " * distilroberta-base\n",
    "\n",
    "See all the models here: https://huggingface.co/transformers/pretrained_models.html\n",
    "\n",
    "Some work, some dont, try at your own risk.\n",
    "\n",
    "---"
   ]
  },
  {
   "cell_type": "code",
   "execution_count": 110,
   "metadata": {
    "id": "Hknt0exnpGRt"
   },
   "outputs": [
    {
     "name": "stdout",
     "output_type": "stream",
     "text": [
      "['not_health_Well', 'health_Well']\n",
      "        not_health_Well  health_Well\n",
      "117099              1.0          0.0\n",
      "88591               1.0          0.0\n",
      "32100               0.0          1.0\n",
      "36362               1.0          0.0\n",
      "20359               0.0          1.0\n",
      "['not_health_Well', 'health_Well']\n",
      "        not_health_Well  health_Well\n",
      "65180               1.0          0.0\n",
      "94678               1.0          0.0\n",
      "147468              1.0          0.0\n",
      "168047              0.0          1.0\n",
      "177528              0.0          1.0\n",
      "preprocessing train...\n",
      "language: en\n",
      "train sequence lengths:\n",
      "\tmean : 32\n",
      "\t95percentile : 58\n",
      "\t99percentile : 68\n"
     ]
    },
    {
     "data": {
      "text/html": [
       "\n",
       "<style>\n",
       "    /* Turns off some styling */\n",
       "    progress {\n",
       "        /* gets rid of default border in Firefox and Opera. */\n",
       "        border: none;\n",
       "        /* Needs to be in here for Safari polyfill so background images work as expected. */\n",
       "        background-size: auto;\n",
       "    }\n",
       "    .progress-bar-interrupted, .progress-bar-interrupted::-webkit-progress-bar {\n",
       "        background: #F44336;\n",
       "    }\n",
       "</style>\n"
      ],
      "text/plain": [
       "<IPython.core.display.HTML object>"
      ]
     },
     "metadata": {},
     "output_type": "display_data"
    },
    {
     "data": {
      "text/html": [],
      "text/plain": [
       "<IPython.core.display.HTML object>"
      ]
     },
     "metadata": {},
     "output_type": "display_data"
    },
    {
     "name": "stdout",
     "output_type": "stream",
     "text": [
      "Is Multi-Label? False\n",
      "preprocessing test...\n",
      "language: en\n",
      "test sequence lengths:\n",
      "\tmean : 32\n",
      "\t95percentile : 58\n",
      "\t99percentile : 67\n"
     ]
    },
    {
     "data": {
      "text/html": [
       "\n",
       "<style>\n",
       "    /* Turns off some styling */\n",
       "    progress {\n",
       "        /* gets rid of default border in Firefox and Opera. */\n",
       "        border: none;\n",
       "        /* Needs to be in here for Safari polyfill so background images work as expected. */\n",
       "        background-size: auto;\n",
       "    }\n",
       "    .progress-bar-interrupted, .progress-bar-interrupted::-webkit-progress-bar {\n",
       "        background: #F44336;\n",
       "    }\n",
       "</style>\n"
      ],
      "text/plain": [
       "<IPython.core.display.HTML object>"
      ]
     },
     "metadata": {},
     "output_type": "display_data"
    },
    {
     "data": {
      "text/html": [],
      "text/plain": [
       "<IPython.core.display.HTML object>"
      ]
     },
     "metadata": {},
     "output_type": "display_data"
    }
   ],
   "source": [
    "train, val, preprocess = ktrain.text.texts_from_df(\n",
    "    review_sample,\n",
    "    \"combined_text\",\n",
    "    label_columns=[\"health_Well\"],\n",
    "    val_df=None,\n",
    "    max_features=20000,\n",
    "    maxlen=512,\n",
    "    val_pct=0.1,\n",
    "    ngram_range=1,\n",
    "    preprocess_mode=\"distilbert\",\n",
    "    verbose=1\n",
    ")"
   ]
  },
  {
   "cell_type": "code",
   "execution_count": 111,
   "metadata": {
    "id": "wD_xu8e30bXp"
   },
   "outputs": [],
   "source": [
    "model = preprocess.get_classifier()\n",
    "learner = ktrain.get_learner(model, train_data=train, val_data=val, batch_size=4)"
   ]
  },
  {
   "cell_type": "code",
   "execution_count": null,
   "metadata": {
    "id": "qlv9dyx20VH6"
   },
   "outputs": [
    {
     "name": "stdout",
     "output_type": "stream",
     "text": [
      "simulating training for different learning rates... this may take a few moments...\n",
      "Epoch 1/6\n",
      " 791/4500 [====>.........................] - ETA: 29:39 - loss: 0.6906 - accuracy: 0.5275"
     ]
    }
   ],
   "source": [
    "learner.lr_find(max_epochs=6)"
   ]
  },
  {
   "cell_type": "code",
   "execution_count": null,
   "metadata": {
    "id": "xO5quriuQ80x"
   },
   "outputs": [],
   "source": [
    "learner.lr_plot()"
   ]
  },
  {
   "cell_type": "markdown",
   "metadata": {
    "id": "pKUljsZ5YTtQ"
   },
   "source": [
    "Now, use the tuned learner to train the best model.\n",
    "\n",
    "Here, we define a limit of 10 epochs, but in reality, this should stop much sooner due to early stopping."
   ]
  },
  {
   "cell_type": "code",
   "execution_count": null,
   "metadata": {
    "id": "HX274hDU0j8R"
   },
   "outputs": [],
   "source": [
    "history=learner.autofit(\n",
    "    1e-4,\n",
    "    checkpoint_folder='checkpoint',\n",
    "    epochs=10,\n",
    "    early_stopping=True\n",
    ")"
   ]
  },
  {
   "cell_type": "markdown",
   "metadata": {
    "id": "zOIwao0SpMsd"
   },
   "source": [
    "Get the predictor"
   ]
  },
  {
   "cell_type": "code",
   "execution_count": null,
   "metadata": {
    "id": "ti1VfWebw-a3"
   },
   "outputs": [],
   "source": [
    "predictor = ktrain.get_predictor(learner.model, preproc=preprocess)"
   ]
  },
  {
   "cell_type": "markdown",
   "metadata": {
    "id": "G9sqftuppYNb"
   },
   "source": [
    "Optionally, uncomment this code to save the predictor and reload it later. Note, the saved models can be quite large and may quickly use up space on your Google Drive."
   ]
  },
  {
   "cell_type": "code",
   "execution_count": 26,
   "metadata": {
    "id": "EqUostfKpStB"
   },
   "outputs": [],
   "source": [
    "#predictor.save(\"drive/MyDrive/MSDSTextClassification_Lab2.healthy_living\")"
   ]
  },
  {
   "cell_type": "code",
   "execution_count": null,
   "metadata": {
    "id": "sv5DoNl-Ra8T"
   },
   "outputs": [],
   "source": [
    "validation = learner.validate(val_data=val, print_report=True)"
   ]
  },
  {
   "cell_type": "markdown",
   "metadata": {
    "id": "9G39ncMXqOKs"
   },
   "source": [
    "---\n",
    "\n",
    "## 🧐 Lab Quiz Questions 1-4\n",
    "\n",
    "Enter the following values from the validation report into the Lab Quiz:\n",
    "\n",
    " 1. precision for non healthy-living articles\n",
    " 2. recall for non healthy-living articles\n",
    " 3. precision for healthy-living articles\n",
    " 4. recall for healthy-living articles\n",
    "\n",
    " ---\n"
   ]
  },
  {
   "cell_type": "markdown",
   "metadata": {
    "id": "8A4jGZxtnlL5"
   },
   "source": [
    "Keep in mind that we've reduced the training set for the sake of expediency. For your final analysis and project, you should complete a run of the full data set. Pay attention to the impact of the input data on the performance of the final model (i.e. the validation scores)"
   ]
  },
  {
   "cell_type": "markdown",
   "metadata": {
    "id": "1g4KhsgzoQgr"
   },
   "source": [
    "# Inspecting the drivers of prediction"
   ]
  },
  {
   "cell_type": "markdown",
   "metadata": {
    "id": "CLsIxS6houWD"
   },
   "source": [
    "No matter what the supervised machine learning model, you always want to peak under the hood to see what features are driving prediction. That is, what words sway the outcome of the prediction. It's harder to inspect a neural network. Because all of the layers of a neural network aren't really interpretable to the human eye. \n",
    "\n",
    "Currently, the best practice I've found is a little tool Explainable AI:\n",
    "https://alvinntnu.github.io/python-notes/nlp/ktrain-tutorial-explaining-predictions.html"
   ]
  },
  {
   "cell_type": "code",
   "execution_count": null,
   "metadata": {
    "id": "6urVvKOqUHEl"
   },
   "outputs": [],
   "source": [
    "!pip3 install -q git+https://github.com/amaiya/eli5@tfkeras_0_10_1"
   ]
  },
  {
   "cell_type": "markdown",
   "metadata": {
    "id": "vB1_AaQBp35M"
   },
   "source": [
    "Let's go ahead and make a little set of test documents to check out"
   ]
  },
  {
   "cell_type": "code",
   "execution_count": null,
   "metadata": {
    "id": "Phek3FTqqAIl"
   },
   "outputs": [],
   "source": [
    "test_docs = [\n",
    "'Stress May Be Your Heart’s Worst Enemy Psychological stress activates the fear center in the brain, setting into motion a cascade of reactions that can lead to heart attacks and strokes.',\n",
    "'Exercising to Slim Down? Try Getting Bigger. It’s high time for women to reclaim the real strength behind exercise.',\n",
    "'What Are Your Food Resolutions for the New Year? Join us for the Eat Well Challenge starting in January.',\n",
    "'Why We All Need to Have More Fun. Prioritizing fun may feel impossible right now. But this four-step plan will help you rediscover how to feel more alive.',\n",
    "'Cuomo Will Not Be Prosecuted in Groping Case, Albany D.A. Says. The district attorney described the woman who said former Gov. Andrew Cuomo had groped her as “credible,” but added that proving her allegation would be difficult.',\n",
    "'A Film Captures Jewish Life in a Polish Town Before the Nazis Arrived. A documentary based on a home movie shot by an American in 1938 provides a look at the vibrancy of a Jewish community in Europe just before the Holocaust.' \n",
    "             ]"
   ]
  },
  {
   "cell_type": "code",
   "execution_count": null,
   "metadata": {
    "id": "fQbBKDiPb9FO"
   },
   "outputs": [],
   "source": [
    "for i, text in enumerate(test_docs):\n",
    "  probs = predictor.predict(text, return_proba=True)\n",
    "  print(\"---------------------------\")\n",
    "  print('The probability this is healthy is %s' % probs[1])\n",
    "  print(text)"
   ]
  },
  {
   "cell_type": "markdown",
   "metadata": {
    "id": "hha7-WCOr0RN"
   },
   "source": [
    "*These* are pretty obvious examples, but it works exactly as expected!"
   ]
  },
  {
   "cell_type": "code",
   "execution_count": null,
   "metadata": {
    "id": "KVpTNeKqXhov"
   },
   "outputs": [],
   "source": [
    "predictor.explain('Diversity is the key to a healthy society. Here is what we need to do to make america a more equitable place to live for all.')"
   ]
  },
  {
   "cell_type": "markdown",
   "metadata": {
    "id": "SWgUdJuxsJ1r"
   },
   "source": [
    "But you can see, this algorithm is far from perfect. Here you can see that it's probably got too high of an emphasis on the word \"healthy.\""
   ]
  },
  {
   "cell_type": "markdown",
   "metadata": {
    "id": "1o9GW2qAsfCA"
   },
   "source": [
    "So what would I do next? Well, given that it's over reacting to worrds like health and equitable, I'd try introducing more negative examples into the data, times where healthy is used outside of health and wellness news. We can do this by changing our sample from 50/50 to something like 20/80, but of course, the more documents we process, the longer this model is going to take to make!"
   ]
  }
 ],
 "metadata": {
  "accelerator": "GPU",
  "colab": {
   "collapsed_sections": [],
   "machine_shape": "hm",
   "name": "MSDSTextClassification_Lab2_KTrain.ipynb",
   "provenance": []
  },
  "kernelspec": {
   "display_name": "Python 3 (ipykernel)",
   "language": "python",
   "name": "python3"
  },
  "language_info": {
   "codemirror_mode": {
    "name": "ipython",
    "version": 3
   },
   "file_extension": ".py",
   "mimetype": "text/x-python",
   "name": "python",
   "nbconvert_exporter": "python",
   "pygments_lexer": "ipython3",
   "version": "3.8.12"
  }
 },
 "nbformat": 4,
 "nbformat_minor": 1
}
